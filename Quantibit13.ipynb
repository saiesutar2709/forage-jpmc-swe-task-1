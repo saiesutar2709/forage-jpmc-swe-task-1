{
  "nbformat": 4,
  "nbformat_minor": 0,
  "metadata": {
    "colab": {
      "provenance": [],
      "authorship_tag": "ABX9TyPydLbrIbY+XqO0448Ya3Yl",
      "include_colab_link": true
    },
    "kernelspec": {
      "name": "python3",
      "display_name": "Python 3"
    },
    "language_info": {
      "name": "python"
    }
  },
  "cells": [
    {
      "cell_type": "markdown",
      "metadata": {
        "id": "view-in-github",
        "colab_type": "text"
      },
      "source": [
        "<a href=\"https://colab.research.google.com/github/saiesutar2709/forage-jpmc-swe-task-1/blob/main/Quantibit13.ipynb\" target=\"_parent\"><img src=\"https://colab.research.google.com/assets/colab-badge.svg\" alt=\"Open In Colab\"/></a>"
      ]
    },
    {
      "cell_type": "code",
      "source": [
        "def binary_search(arr, target):\n",
        "\n",
        "    left, right = 0, len(arr) - 1\n",
        "\n",
        "    while left <= right:\n",
        "        mid = (left + right) // 2\n",
        "\n",
        "        if arr[mid] == target:\n",
        "            return f\"Found at index {mid}\"\n",
        "        elif arr[mid] < target:\n",
        "\n",
        "            left = mid + 1\n",
        "        else:\n",
        "\n",
        "            right = mid - 1\n",
        "\n",
        "    return \"Not found\"\n",
        "\n",
        "\n",
        "arr = [1, 3, 5, 7, 9]\n",
        "target = 7\n",
        "\n",
        "\n",
        "result = binary_search(arr, target)\n",
        "print(result)\n"
      ],
      "metadata": {
        "colab": {
          "base_uri": "https://localhost:8080/"
        },
        "id": "aQUA0wwzt0WG",
        "outputId": "e9c85d5b-d2ba-4a01-cda1-c0b0ea594a75"
      },
      "execution_count": 7,
      "outputs": [
        {
          "output_type": "stream",
          "name": "stdout",
          "text": [
            "Found at index 3\n"
          ]
        }
      ]
    }
  ]
}